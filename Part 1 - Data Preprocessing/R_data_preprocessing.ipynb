{
 "cells": [
  {
   "cell_type": "code",
   "execution_count": 1,
   "metadata": {},
   "outputs": [],
   "source": [
    "data=read.csv('Data.csv')"
   ]
  },
  {
   "cell_type": "code",
   "execution_count": 2,
   "metadata": {},
   "outputs": [
    {
     "data": {
      "text/html": [
       "<table>\n",
       "<thead><tr><th scope=col>Country</th><th scope=col>Age</th><th scope=col>Salary</th><th scope=col>Purchased</th></tr></thead>\n",
       "<tbody>\n",
       "\t<tr><td>France </td><td>44     </td><td>72000  </td><td>No     </td></tr>\n",
       "\t<tr><td>Spain  </td><td>27     </td><td>48000  </td><td>Yes    </td></tr>\n",
       "\t<tr><td>Germany</td><td>30     </td><td>54000  </td><td>No     </td></tr>\n",
       "\t<tr><td>Spain  </td><td>38     </td><td>61000  </td><td>No     </td></tr>\n",
       "\t<tr><td>Germany</td><td>40     </td><td>   NA  </td><td>Yes    </td></tr>\n",
       "\t<tr><td>France </td><td>35     </td><td>58000  </td><td>Yes    </td></tr>\n",
       "\t<tr><td>Spain  </td><td>NA     </td><td>52000  </td><td>No     </td></tr>\n",
       "\t<tr><td>France </td><td>48     </td><td>79000  </td><td>Yes    </td></tr>\n",
       "\t<tr><td>Germany</td><td>50     </td><td>83000  </td><td>No     </td></tr>\n",
       "\t<tr><td>France </td><td>37     </td><td>67000  </td><td>Yes    </td></tr>\n",
       "</tbody>\n",
       "</table>\n"
      ],
      "text/latex": [
       "\\begin{tabular}{r|llll}\n",
       " Country & Age & Salary & Purchased\\\\\n",
       "\\hline\n",
       "\t France  & 44      & 72000   & No     \\\\\n",
       "\t Spain   & 27      & 48000   & Yes    \\\\\n",
       "\t Germany & 30      & 54000   & No     \\\\\n",
       "\t Spain   & 38      & 61000   & No     \\\\\n",
       "\t Germany & 40      &    NA   & Yes    \\\\\n",
       "\t France  & 35      & 58000   & Yes    \\\\\n",
       "\t Spain   & NA      & 52000   & No     \\\\\n",
       "\t France  & 48      & 79000   & Yes    \\\\\n",
       "\t Germany & 50      & 83000   & No     \\\\\n",
       "\t France  & 37      & 67000   & Yes    \\\\\n",
       "\\end{tabular}\n"
      ],
      "text/markdown": [
       "\n",
       "Country | Age | Salary | Purchased | \n",
       "|---|---|---|---|---|---|---|---|---|---|\n",
       "| France  | 44      | 72000   | No      | \n",
       "| Spain   | 27      | 48000   | Yes     | \n",
       "| Germany | 30      | 54000   | No      | \n",
       "| Spain   | 38      | 61000   | No      | \n",
       "| Germany | 40      |    NA   | Yes     | \n",
       "| France  | 35      | 58000   | Yes     | \n",
       "| Spain   | NA      | 52000   | No      | \n",
       "| France  | 48      | 79000   | Yes     | \n",
       "| Germany | 50      | 83000   | No      | \n",
       "| France  | 37      | 67000   | Yes     | \n",
       "\n",
       "\n"
      ],
      "text/plain": [
       "   Country Age Salary Purchased\n",
       "1  France  44  72000  No       \n",
       "2  Spain   27  48000  Yes      \n",
       "3  Germany 30  54000  No       \n",
       "4  Spain   38  61000  No       \n",
       "5  Germany 40     NA  Yes      \n",
       "6  France  35  58000  Yes      \n",
       "7  Spain   NA  52000  No       \n",
       "8  France  48  79000  Yes      \n",
       "9  Germany 50  83000  No       \n",
       "10 France  37  67000  Yes      "
      ]
     },
     "metadata": {},
     "output_type": "display_data"
    }
   ],
   "source": [
    "data"
   ]
  },
  {
   "cell_type": "markdown",
   "metadata": {},
   "source": [
    "# Replace na values with column average"
   ]
  },
  {
   "cell_type": "code",
   "execution_count": 3,
   "metadata": {},
   "outputs": [],
   "source": [
    "# replace missing value with column average\n",
    "data$Age= ifelse(is.na(data$Age),\n",
    "                 ave(data$Age, FUN=function(x) mean(x, na.rm = TRUE)),\n",
    "                data$Age)"
   ]
  },
  {
   "cell_type": "code",
   "execution_count": 4,
   "metadata": {},
   "outputs": [],
   "source": [
    "data$Salary= ifelse(is.na(data$Salary),\n",
    "                    ave(data$Salary, FUN=function(x) mean(x, na.rm=TRUE)),\n",
    "                    data$Salary)"
   ]
  },
  {
   "cell_type": "code",
   "execution_count": 5,
   "metadata": {},
   "outputs": [
    {
     "data": {
      "text/html": [
       "<table>\n",
       "<thead><tr><th scope=col>Country</th><th scope=col>Age</th><th scope=col>Salary</th><th scope=col>Purchased</th></tr></thead>\n",
       "<tbody>\n",
       "\t<tr><td>France  </td><td>44.00000</td><td>72000.00</td><td>No      </td></tr>\n",
       "\t<tr><td>Spain   </td><td>27.00000</td><td>48000.00</td><td>Yes     </td></tr>\n",
       "\t<tr><td>Germany </td><td>30.00000</td><td>54000.00</td><td>No      </td></tr>\n",
       "\t<tr><td>Spain   </td><td>38.00000</td><td>61000.00</td><td>No      </td></tr>\n",
       "\t<tr><td>Germany </td><td>40.00000</td><td>63777.78</td><td>Yes     </td></tr>\n",
       "\t<tr><td>France  </td><td>35.00000</td><td>58000.00</td><td>Yes     </td></tr>\n",
       "\t<tr><td>Spain   </td><td>38.77778</td><td>52000.00</td><td>No      </td></tr>\n",
       "\t<tr><td>France  </td><td>48.00000</td><td>79000.00</td><td>Yes     </td></tr>\n",
       "\t<tr><td>Germany </td><td>50.00000</td><td>83000.00</td><td>No      </td></tr>\n",
       "\t<tr><td>France  </td><td>37.00000</td><td>67000.00</td><td>Yes     </td></tr>\n",
       "</tbody>\n",
       "</table>\n"
      ],
      "text/latex": [
       "\\begin{tabular}{r|llll}\n",
       " Country & Age & Salary & Purchased\\\\\n",
       "\\hline\n",
       "\t France   & 44.00000 & 72000.00 & No      \\\\\n",
       "\t Spain    & 27.00000 & 48000.00 & Yes     \\\\\n",
       "\t Germany  & 30.00000 & 54000.00 & No      \\\\\n",
       "\t Spain    & 38.00000 & 61000.00 & No      \\\\\n",
       "\t Germany  & 40.00000 & 63777.78 & Yes     \\\\\n",
       "\t France   & 35.00000 & 58000.00 & Yes     \\\\\n",
       "\t Spain    & 38.77778 & 52000.00 & No      \\\\\n",
       "\t France   & 48.00000 & 79000.00 & Yes     \\\\\n",
       "\t Germany  & 50.00000 & 83000.00 & No      \\\\\n",
       "\t France   & 37.00000 & 67000.00 & Yes     \\\\\n",
       "\\end{tabular}\n"
      ],
      "text/markdown": [
       "\n",
       "Country | Age | Salary | Purchased | \n",
       "|---|---|---|---|---|---|---|---|---|---|\n",
       "| France   | 44.00000 | 72000.00 | No       | \n",
       "| Spain    | 27.00000 | 48000.00 | Yes      | \n",
       "| Germany  | 30.00000 | 54000.00 | No       | \n",
       "| Spain    | 38.00000 | 61000.00 | No       | \n",
       "| Germany  | 40.00000 | 63777.78 | Yes      | \n",
       "| France   | 35.00000 | 58000.00 | Yes      | \n",
       "| Spain    | 38.77778 | 52000.00 | No       | \n",
       "| France   | 48.00000 | 79000.00 | Yes      | \n",
       "| Germany  | 50.00000 | 83000.00 | No       | \n",
       "| France   | 37.00000 | 67000.00 | Yes      | \n",
       "\n",
       "\n"
      ],
      "text/plain": [
       "   Country Age      Salary   Purchased\n",
       "1  France  44.00000 72000.00 No       \n",
       "2  Spain   27.00000 48000.00 Yes      \n",
       "3  Germany 30.00000 54000.00 No       \n",
       "4  Spain   38.00000 61000.00 No       \n",
       "5  Germany 40.00000 63777.78 Yes      \n",
       "6  France  35.00000 58000.00 Yes      \n",
       "7  Spain   38.77778 52000.00 No       \n",
       "8  France  48.00000 79000.00 Yes      \n",
       "9  Germany 50.00000 83000.00 No       \n",
       "10 France  37.00000 67000.00 Yes      "
      ]
     },
     "metadata": {},
     "output_type": "display_data"
    }
   ],
   "source": [
    "data"
   ]
  },
  {
   "cell_type": "markdown",
   "metadata": {},
   "source": [
    "# Change categorical variables to numeric"
   ]
  },
  {
   "cell_type": "code",
   "execution_count": 6,
   "metadata": {},
   "outputs": [
    {
     "data": {
      "text/html": [
       "<table>\n",
       "<thead><tr><th scope=col>Country</th><th scope=col>Age</th><th scope=col>Salary</th><th scope=col>Purchased</th></tr></thead>\n",
       "<tbody>\n",
       "\t<tr><td>1       </td><td>44.00000</td><td>72000.00</td><td>No      </td></tr>\n",
       "\t<tr><td>2       </td><td>27.00000</td><td>48000.00</td><td>Yes     </td></tr>\n",
       "\t<tr><td>3       </td><td>30.00000</td><td>54000.00</td><td>No      </td></tr>\n",
       "\t<tr><td>2       </td><td>38.00000</td><td>61000.00</td><td>No      </td></tr>\n",
       "\t<tr><td>3       </td><td>40.00000</td><td>63777.78</td><td>Yes     </td></tr>\n",
       "\t<tr><td>1       </td><td>35.00000</td><td>58000.00</td><td>Yes     </td></tr>\n",
       "\t<tr><td>2       </td><td>38.77778</td><td>52000.00</td><td>No      </td></tr>\n",
       "\t<tr><td>1       </td><td>48.00000</td><td>79000.00</td><td>Yes     </td></tr>\n",
       "\t<tr><td>3       </td><td>50.00000</td><td>83000.00</td><td>No      </td></tr>\n",
       "\t<tr><td>1       </td><td>37.00000</td><td>67000.00</td><td>Yes     </td></tr>\n",
       "</tbody>\n",
       "</table>\n"
      ],
      "text/latex": [
       "\\begin{tabular}{r|llll}\n",
       " Country & Age & Salary & Purchased\\\\\n",
       "\\hline\n",
       "\t 1        & 44.00000 & 72000.00 & No      \\\\\n",
       "\t 2        & 27.00000 & 48000.00 & Yes     \\\\\n",
       "\t 3        & 30.00000 & 54000.00 & No      \\\\\n",
       "\t 2        & 38.00000 & 61000.00 & No      \\\\\n",
       "\t 3        & 40.00000 & 63777.78 & Yes     \\\\\n",
       "\t 1        & 35.00000 & 58000.00 & Yes     \\\\\n",
       "\t 2        & 38.77778 & 52000.00 & No      \\\\\n",
       "\t 1        & 48.00000 & 79000.00 & Yes     \\\\\n",
       "\t 3        & 50.00000 & 83000.00 & No      \\\\\n",
       "\t 1        & 37.00000 & 67000.00 & Yes     \\\\\n",
       "\\end{tabular}\n"
      ],
      "text/markdown": [
       "\n",
       "Country | Age | Salary | Purchased | \n",
       "|---|---|---|---|---|---|---|---|---|---|\n",
       "| 1        | 44.00000 | 72000.00 | No       | \n",
       "| 2        | 27.00000 | 48000.00 | Yes      | \n",
       "| 3        | 30.00000 | 54000.00 | No       | \n",
       "| 2        | 38.00000 | 61000.00 | No       | \n",
       "| 3        | 40.00000 | 63777.78 | Yes      | \n",
       "| 1        | 35.00000 | 58000.00 | Yes      | \n",
       "| 2        | 38.77778 | 52000.00 | No       | \n",
       "| 1        | 48.00000 | 79000.00 | Yes      | \n",
       "| 3        | 50.00000 | 83000.00 | No       | \n",
       "| 1        | 37.00000 | 67000.00 | Yes      | \n",
       "\n",
       "\n"
      ],
      "text/plain": [
       "   Country Age      Salary   Purchased\n",
       "1  1       44.00000 72000.00 No       \n",
       "2  2       27.00000 48000.00 Yes      \n",
       "3  3       30.00000 54000.00 No       \n",
       "4  2       38.00000 61000.00 No       \n",
       "5  3       40.00000 63777.78 Yes      \n",
       "6  1       35.00000 58000.00 Yes      \n",
       "7  2       38.77778 52000.00 No       \n",
       "8  1       48.00000 79000.00 Yes      \n",
       "9  3       50.00000 83000.00 No       \n",
       "10 1       37.00000 67000.00 Yes      "
      ]
     },
     "metadata": {},
     "output_type": "display_data"
    }
   ],
   "source": [
    "# help(factor) for help and documentation\n",
    "# Change categorical variable Country into numeric variable\n",
    "data$Country=factor(data$Country,\n",
    "                    levels= c('France','Spain','Germany'),\n",
    "                    labels= c(1, 2, 3))\n",
    "data"
   ]
  },
  {
   "cell_type": "code",
   "execution_count": 7,
   "metadata": {},
   "outputs": [
    {
     "data": {
      "text/html": [
       "<table>\n",
       "<thead><tr><th scope=col>Country</th><th scope=col>Age</th><th scope=col>Salary</th><th scope=col>Purchased</th></tr></thead>\n",
       "<tbody>\n",
       "\t<tr><td>1       </td><td>44.00000</td><td>72000.00</td><td>0       </td></tr>\n",
       "\t<tr><td>2       </td><td>27.00000</td><td>48000.00</td><td>1       </td></tr>\n",
       "\t<tr><td>3       </td><td>30.00000</td><td>54000.00</td><td>0       </td></tr>\n",
       "\t<tr><td>2       </td><td>38.00000</td><td>61000.00</td><td>0       </td></tr>\n",
       "\t<tr><td>3       </td><td>40.00000</td><td>63777.78</td><td>1       </td></tr>\n",
       "\t<tr><td>1       </td><td>35.00000</td><td>58000.00</td><td>1       </td></tr>\n",
       "\t<tr><td>2       </td><td>38.77778</td><td>52000.00</td><td>0       </td></tr>\n",
       "\t<tr><td>1       </td><td>48.00000</td><td>79000.00</td><td>1       </td></tr>\n",
       "\t<tr><td>3       </td><td>50.00000</td><td>83000.00</td><td>0       </td></tr>\n",
       "\t<tr><td>1       </td><td>37.00000</td><td>67000.00</td><td>1       </td></tr>\n",
       "</tbody>\n",
       "</table>\n"
      ],
      "text/latex": [
       "\\begin{tabular}{r|llll}\n",
       " Country & Age & Salary & Purchased\\\\\n",
       "\\hline\n",
       "\t 1        & 44.00000 & 72000.00 & 0       \\\\\n",
       "\t 2        & 27.00000 & 48000.00 & 1       \\\\\n",
       "\t 3        & 30.00000 & 54000.00 & 0       \\\\\n",
       "\t 2        & 38.00000 & 61000.00 & 0       \\\\\n",
       "\t 3        & 40.00000 & 63777.78 & 1       \\\\\n",
       "\t 1        & 35.00000 & 58000.00 & 1       \\\\\n",
       "\t 2        & 38.77778 & 52000.00 & 0       \\\\\n",
       "\t 1        & 48.00000 & 79000.00 & 1       \\\\\n",
       "\t 3        & 50.00000 & 83000.00 & 0       \\\\\n",
       "\t 1        & 37.00000 & 67000.00 & 1       \\\\\n",
       "\\end{tabular}\n"
      ],
      "text/markdown": [
       "\n",
       "Country | Age | Salary | Purchased | \n",
       "|---|---|---|---|---|---|---|---|---|---|\n",
       "| 1        | 44.00000 | 72000.00 | 0        | \n",
       "| 2        | 27.00000 | 48000.00 | 1        | \n",
       "| 3        | 30.00000 | 54000.00 | 0        | \n",
       "| 2        | 38.00000 | 61000.00 | 0        | \n",
       "| 3        | 40.00000 | 63777.78 | 1        | \n",
       "| 1        | 35.00000 | 58000.00 | 1        | \n",
       "| 2        | 38.77778 | 52000.00 | 0        | \n",
       "| 1        | 48.00000 | 79000.00 | 1        | \n",
       "| 3        | 50.00000 | 83000.00 | 0        | \n",
       "| 1        | 37.00000 | 67000.00 | 1        | \n",
       "\n",
       "\n"
      ],
      "text/plain": [
       "   Country Age      Salary   Purchased\n",
       "1  1       44.00000 72000.00 0        \n",
       "2  2       27.00000 48000.00 1        \n",
       "3  3       30.00000 54000.00 0        \n",
       "4  2       38.00000 61000.00 0        \n",
       "5  3       40.00000 63777.78 1        \n",
       "6  1       35.00000 58000.00 1        \n",
       "7  2       38.77778 52000.00 0        \n",
       "8  1       48.00000 79000.00 1        \n",
       "9  3       50.00000 83000.00 0        \n",
       "10 1       37.00000 67000.00 1        "
      ]
     },
     "metadata": {},
     "output_type": "display_data"
    }
   ],
   "source": [
    "# Change categorical varibale Purchased into numeric varable\n",
    "data$Purchased=factor(data$Purchased,\n",
    "                    levels= c('No','Yes'),\n",
    "                    labels= c(0,1))\n",
    "data"
   ]
  },
  {
   "cell_type": "markdown",
   "metadata": {},
   "source": [
    "# Split data into training and testing sets"
   ]
  },
  {
   "cell_type": "code",
   "execution_count": 8,
   "metadata": {},
   "outputs": [
    {
     "name": "stderr",
     "output_type": "stream",
     "text": [
      "Updating HTML index of packages in '.Library'\n",
      "Making 'packages.html' ... done\n"
     ]
    }
   ],
   "source": [
    "# Split data into training and testing sets\n",
    "#install.packages('caTools')\n",
    "library(caTools)"
   ]
  },
  {
   "cell_type": "code",
   "execution_count": 9,
   "metadata": {},
   "outputs": [
    {
     "data": {
      "text/html": [
       "<ol class=list-inline>\n",
       "\t<li>TRUE</li>\n",
       "\t<li>TRUE</li>\n",
       "\t<li>TRUE</li>\n",
       "\t<li>TRUE</li>\n",
       "\t<li>TRUE</li>\n",
       "\t<li>FALSE</li>\n",
       "\t<li>TRUE</li>\n",
       "\t<li>TRUE</li>\n",
       "\t<li>FALSE</li>\n",
       "\t<li>TRUE</li>\n",
       "</ol>\n"
      ],
      "text/latex": [
       "\\begin{enumerate*}\n",
       "\\item TRUE\n",
       "\\item TRUE\n",
       "\\item TRUE\n",
       "\\item TRUE\n",
       "\\item TRUE\n",
       "\\item FALSE\n",
       "\\item TRUE\n",
       "\\item TRUE\n",
       "\\item FALSE\n",
       "\\item TRUE\n",
       "\\end{enumerate*}\n"
      ],
      "text/markdown": [
       "1. TRUE\n",
       "2. TRUE\n",
       "3. TRUE\n",
       "4. TRUE\n",
       "5. TRUE\n",
       "6. FALSE\n",
       "7. TRUE\n",
       "8. TRUE\n",
       "9. FALSE\n",
       "10. TRUE\n",
       "\n",
       "\n"
      ],
      "text/plain": [
       " [1]  TRUE  TRUE  TRUE  TRUE  TRUE FALSE  TRUE  TRUE FALSE  TRUE"
      ]
     },
     "metadata": {},
     "output_type": "display_data"
    }
   ],
   "source": [
    "set.seed(123)\n",
    "split= sample.split(data$Purchased, SplitRatio= 0.8)\n",
    "# TRUE goes to training, FALSE goes to test\n",
    "split"
   ]
  },
  {
   "cell_type": "code",
   "execution_count": 11,
   "metadata": {},
   "outputs": [
    {
     "data": {
      "text/html": [
       "<table>\n",
       "<thead><tr><th></th><th scope=col>Country</th><th scope=col>Age</th><th scope=col>Salary</th><th scope=col>Purchased</th></tr></thead>\n",
       "<tbody>\n",
       "\t<tr><th scope=row>1</th><td>1       </td><td>44.00000</td><td>72000.00</td><td>0       </td></tr>\n",
       "\t<tr><th scope=row>2</th><td>2       </td><td>27.00000</td><td>48000.00</td><td>1       </td></tr>\n",
       "\t<tr><th scope=row>3</th><td>3       </td><td>30.00000</td><td>54000.00</td><td>0       </td></tr>\n",
       "\t<tr><th scope=row>4</th><td>2       </td><td>38.00000</td><td>61000.00</td><td>0       </td></tr>\n",
       "\t<tr><th scope=row>5</th><td>3       </td><td>40.00000</td><td>63777.78</td><td>1       </td></tr>\n",
       "\t<tr><th scope=row>7</th><td>2       </td><td>38.77778</td><td>52000.00</td><td>0       </td></tr>\n",
       "\t<tr><th scope=row>8</th><td>1       </td><td>48.00000</td><td>79000.00</td><td>1       </td></tr>\n",
       "\t<tr><th scope=row>10</th><td>1       </td><td>37.00000</td><td>67000.00</td><td>1       </td></tr>\n",
       "</tbody>\n",
       "</table>\n"
      ],
      "text/latex": [
       "\\begin{tabular}{r|llll}\n",
       "  & Country & Age & Salary & Purchased\\\\\n",
       "\\hline\n",
       "\t1 & 1        & 44.00000 & 72000.00 & 0       \\\\\n",
       "\t2 & 2        & 27.00000 & 48000.00 & 1       \\\\\n",
       "\t3 & 3        & 30.00000 & 54000.00 & 0       \\\\\n",
       "\t4 & 2        & 38.00000 & 61000.00 & 0       \\\\\n",
       "\t5 & 3        & 40.00000 & 63777.78 & 1       \\\\\n",
       "\t7 & 2        & 38.77778 & 52000.00 & 0       \\\\\n",
       "\t8 & 1        & 48.00000 & 79000.00 & 1       \\\\\n",
       "\t10 & 1        & 37.00000 & 67000.00 & 1       \\\\\n",
       "\\end{tabular}\n"
      ],
      "text/markdown": [
       "\n",
       "| <!--/--> | Country | Age | Salary | Purchased | \n",
       "|---|---|---|---|---|---|---|---|\n",
       "| 1 | 1        | 44.00000 | 72000.00 | 0        | \n",
       "| 2 | 2        | 27.00000 | 48000.00 | 1        | \n",
       "| 3 | 3        | 30.00000 | 54000.00 | 0        | \n",
       "| 4 | 2        | 38.00000 | 61000.00 | 0        | \n",
       "| 5 | 3        | 40.00000 | 63777.78 | 1        | \n",
       "| 7 | 2        | 38.77778 | 52000.00 | 0        | \n",
       "| 8 | 1        | 48.00000 | 79000.00 | 1        | \n",
       "| 10 | 1        | 37.00000 | 67000.00 | 1        | \n",
       "\n",
       "\n"
      ],
      "text/plain": [
       "   Country Age      Salary   Purchased\n",
       "1  1       44.00000 72000.00 0        \n",
       "2  2       27.00000 48000.00 1        \n",
       "3  3       30.00000 54000.00 0        \n",
       "4  2       38.00000 61000.00 0        \n",
       "5  3       40.00000 63777.78 1        \n",
       "7  2       38.77778 52000.00 0        \n",
       "8  1       48.00000 79000.00 1        \n",
       "10 1       37.00000 67000.00 1        "
      ]
     },
     "metadata": {},
     "output_type": "display_data"
    }
   ],
   "source": [
    "training_set= subset(data, split== TRUE)\n",
    "test_set= subset(data, split== FALSE)\n",
    "training_set"
   ]
  },
  {
   "cell_type": "markdown",
   "metadata": {},
   "source": [
    "# Feature Scaling"
   ]
  },
  {
   "cell_type": "code",
   "execution_count": 13,
   "metadata": {},
   "outputs": [],
   "source": [
    "# indexing in R is more intuitive than Python, it starts from 0 and include upper boundary\n",
    "# also, to include all rows, just put \",\", don't need \":\"\n",
    "training_set[, 2:3]= scale(training_set[, 2:3])\n",
    "test_set[, 2:3]= scale(test_set[, 2:3])"
   ]
  },
  {
   "cell_type": "code",
   "execution_count": 16,
   "metadata": {},
   "outputs": [
    {
     "data": {
      "text/html": [
       "<table>\n",
       "<thead><tr><th></th><th scope=col>Country</th><th scope=col>Age</th><th scope=col>Salary</th><th scope=col>Purchased</th></tr></thead>\n",
       "<tbody>\n",
       "\t<tr><th scope=row>1</th><td>1          </td><td> 0.90101716</td><td> 0.9392746 </td><td>0          </td></tr>\n",
       "\t<tr><th scope=row>2</th><td>2          </td><td>-1.58847494</td><td>-1.3371160 </td><td>1          </td></tr>\n",
       "\t<tr><th scope=row>3</th><td>3          </td><td>-1.14915281</td><td>-0.7680183 </td><td>0          </td></tr>\n",
       "\t<tr><th scope=row>4</th><td>2          </td><td> 0.02237289</td><td>-0.1040711 </td><td>0          </td></tr>\n",
       "\t<tr><th scope=row>5</th><td>3          </td><td> 0.31525431</td><td> 0.1594000 </td><td>1          </td></tr>\n",
       "\t<tr><th scope=row>7</th><td>2          </td><td> 0.13627122</td><td>-0.9577176 </td><td>0          </td></tr>\n",
       "\t<tr><th scope=row>8</th><td>1          </td><td> 1.48678000</td><td> 1.6032218 </td><td>1          </td></tr>\n",
       "\t<tr><th scope=row>10</th><td>1          </td><td>-0.12406783</td><td> 0.4650265 </td><td>1          </td></tr>\n",
       "</tbody>\n",
       "</table>\n"
      ],
      "text/latex": [
       "\\begin{tabular}{r|llll}\n",
       "  & Country & Age & Salary & Purchased\\\\\n",
       "\\hline\n",
       "\t1 & 1           &  0.90101716 &  0.9392746  & 0          \\\\\n",
       "\t2 & 2           & -1.58847494 & -1.3371160  & 1          \\\\\n",
       "\t3 & 3           & -1.14915281 & -0.7680183  & 0          \\\\\n",
       "\t4 & 2           &  0.02237289 & -0.1040711  & 0          \\\\\n",
       "\t5 & 3           &  0.31525431 &  0.1594000  & 1          \\\\\n",
       "\t7 & 2           &  0.13627122 & -0.9577176  & 0          \\\\\n",
       "\t8 & 1           &  1.48678000 &  1.6032218  & 1          \\\\\n",
       "\t10 & 1           & -0.12406783 &  0.4650265  & 1          \\\\\n",
       "\\end{tabular}\n"
      ],
      "text/markdown": [
       "\n",
       "| <!--/--> | Country | Age | Salary | Purchased | \n",
       "|---|---|---|---|---|---|---|---|\n",
       "| 1 | 1           |  0.90101716 |  0.9392746  | 0           | \n",
       "| 2 | 2           | -1.58847494 | -1.3371160  | 1           | \n",
       "| 3 | 3           | -1.14915281 | -0.7680183  | 0           | \n",
       "| 4 | 2           |  0.02237289 | -0.1040711  | 0           | \n",
       "| 5 | 3           |  0.31525431 |  0.1594000  | 1           | \n",
       "| 7 | 2           |  0.13627122 | -0.9577176  | 0           | \n",
       "| 8 | 1           |  1.48678000 |  1.6032218  | 1           | \n",
       "| 10 | 1           | -0.12406783 |  0.4650265  | 1           | \n",
       "\n",
       "\n"
      ],
      "text/plain": [
       "   Country Age         Salary     Purchased\n",
       "1  1        0.90101716  0.9392746 0        \n",
       "2  2       -1.58847494 -1.3371160 1        \n",
       "3  3       -1.14915281 -0.7680183 0        \n",
       "4  2        0.02237289 -0.1040711 0        \n",
       "5  3        0.31525431  0.1594000 1        \n",
       "7  2        0.13627122 -0.9577176 0        \n",
       "8  1        1.48678000  1.6032218 1        \n",
       "10 1       -0.12406783  0.4650265 1        "
      ]
     },
     "metadata": {},
     "output_type": "display_data"
    },
    {
     "data": {
      "text/html": [
       "<table>\n",
       "<thead><tr><th></th><th scope=col>Country</th><th scope=col>Age</th><th scope=col>Salary</th><th scope=col>Purchased</th></tr></thead>\n",
       "<tbody>\n",
       "\t<tr><th scope=row>6</th><td>1         </td><td>-0.7071068</td><td>-0.7071068</td><td>1         </td></tr>\n",
       "\t<tr><th scope=row>9</th><td>3         </td><td> 0.7071068</td><td> 0.7071068</td><td>0         </td></tr>\n",
       "</tbody>\n",
       "</table>\n"
      ],
      "text/latex": [
       "\\begin{tabular}{r|llll}\n",
       "  & Country & Age & Salary & Purchased\\\\\n",
       "\\hline\n",
       "\t6 & 1          & -0.7071068 & -0.7071068 & 1         \\\\\n",
       "\t9 & 3          &  0.7071068 &  0.7071068 & 0         \\\\\n",
       "\\end{tabular}\n"
      ],
      "text/markdown": [
       "\n",
       "| <!--/--> | Country | Age | Salary | Purchased | \n",
       "|---|---|\n",
       "| 6 | 1          | -0.7071068 | -0.7071068 | 1          | \n",
       "| 9 | 3          |  0.7071068 |  0.7071068 | 0          | \n",
       "\n",
       "\n"
      ],
      "text/plain": [
       "  Country Age        Salary     Purchased\n",
       "6 1       -0.7071068 -0.7071068 1        \n",
       "9 3        0.7071068  0.7071068 0        "
      ]
     },
     "metadata": {},
     "output_type": "display_data"
    }
   ],
   "source": [
    "# cmd + / to comment out and uncomment multi-lines of code\n",
    "training_set\n",
    "test_set"
   ]
  },
  {
   "cell_type": "code",
   "execution_count": null,
   "metadata": {},
   "outputs": [],
   "source": []
  }
 ],
 "metadata": {
  "kernelspec": {
   "display_name": "R",
   "language": "R",
   "name": "ir"
  },
  "language_info": {
   "codemirror_mode": "r",
   "file_extension": ".r",
   "mimetype": "text/x-r-source",
   "name": "R",
   "pygments_lexer": "r",
   "version": "3.4.2"
  },
  "varInspector": {
   "cols": {
    "lenName": 16,
    "lenType": 16,
    "lenVar": 40
   },
   "kernels_config": {
    "python": {
     "delete_cmd_postfix": "",
     "delete_cmd_prefix": "del ",
     "library": "var_list.py",
     "varRefreshCmd": "print(var_dic_list())"
    },
    "r": {
     "delete_cmd_postfix": ") ",
     "delete_cmd_prefix": "rm(",
     "library": "var_list.r",
     "varRefreshCmd": "cat(var_dic_list()) "
    }
   },
   "types_to_exclude": [
    "module",
    "function",
    "builtin_function_or_method",
    "instance",
    "_Feature"
   ],
   "window_display": false
  }
 },
 "nbformat": 4,
 "nbformat_minor": 2
}
