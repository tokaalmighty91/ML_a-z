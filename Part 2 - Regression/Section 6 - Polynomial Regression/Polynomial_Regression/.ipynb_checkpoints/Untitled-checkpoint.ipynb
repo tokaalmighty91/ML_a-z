{
 "cells": [
  {
   "cell_type": "code",
   "execution_count": null,
   "metadata": {},
   "outputs": [],
   "source": []
  },
  {
   "cell_type": "code",
   "execution_count": 2,
   "metadata": {},
   "outputs": [
    {
     "name": "stderr",
     "output_type": "stream",
     "text": [
      "\n",
      "Attaching package: ‘dplyr’\n",
      "\n",
      "The following objects are masked from ‘package:stats’:\n",
      "\n",
      "    filter, lag\n",
      "\n",
      "The following objects are masked from ‘package:base’:\n",
      "\n",
      "    intersect, setdiff, setequal, union\n",
      "\n"
     ]
    },
    {
     "ename": "ERROR",
     "evalue": "Error in library(lavaan): there is no package called ‘lavaan’\n",
     "output_type": "error",
     "traceback": [
      "Error in library(lavaan): there is no package called ‘lavaan’\nTraceback:\n",
      "1. library(lavaan)",
      "2. stop(txt, domain = NA)"
     ]
    }
   ],
   "source": [
    "library(dplyr)\n",
    "library(lavaan)\n",
    "library(semPlot)\n",
    "library(data.table)\n",
    "library(rmarkdown)\n",
    "library(knitr)"
   ]
  },
  {
   "cell_type": "code",
   "execution_count": 1,
   "metadata": {},
   "outputs": [
    {
     "ename": "ERROR",
     "evalue": "Error in select(data, \"Subj\", \"Antisaccade\", \"StroopPerf\", \"SSRTavg\", : could not find function \"select\"\n",
     "output_type": "error",
     "traceback": [
      "Error in select(data, \"Subj\", \"Antisaccade\", \"StroopPerf\", \"SSRTavg\", : could not find function \"select\"\nTraceback:\n"
     ]
    }
   ],
   "source": [
    "data<-read.csv('overall.badremoved.chanceremoved.DATA.csv')\n",
    "data<-select(data, \n",
    "             \"Subj\", \n",
    "             \"Antisaccade\", \n",
    "             #\"Stroop\", \n",
    "             \"StroopPerf\", \n",
    "             \"SSRTavg\", \n",
    "             \"LetMem\", \n",
    "             \"KeepTrack\", \n",
    "             \"SpatialBack\", \n",
    "             \"NumLett\", \n",
    "             #\"NumLetPerf\", \n",
    "             \"ColShape\", \n",
    "             #\"ColShapePerf\", \n",
    "             \"CatSwitch\", \n",
    "             #\"CatSwitchPerf\", \n",
    "             \"FR1\", \"FR2\", \"FR3\", \"FR4\", \n",
    "             \"SD1\", \"SD2\", \"SD3\", \"SD4\")\n",
    "\n",
    "data$Subj<-as.factor(data$Subj)\n",
    "\n",
    "#Standardize all columns except subjects\n",
    "data[,-c(1)]=scale(data[,-c(1)])"
   ]
  },
  {
   "cell_type": "code",
   "execution_count": null,
   "metadata": {},
   "outputs": [],
   "source": []
  }
 ],
 "metadata": {
  "kernelspec": {
   "display_name": "R",
   "language": "R",
   "name": "ir"
  },
  "language_info": {
   "codemirror_mode": "r",
   "file_extension": ".r",
   "mimetype": "text/x-r-source",
   "name": "R",
   "pygments_lexer": "r",
   "version": "3.5.1"
  },
  "varInspector": {
   "cols": {
    "lenName": 16,
    "lenType": 16,
    "lenVar": 40
   },
   "kernels_config": {
    "python": {
     "delete_cmd_postfix": "",
     "delete_cmd_prefix": "del ",
     "library": "var_list.py",
     "varRefreshCmd": "print(var_dic_list())"
    },
    "r": {
     "delete_cmd_postfix": ") ",
     "delete_cmd_prefix": "rm(",
     "library": "var_list.r",
     "varRefreshCmd": "cat(var_dic_list()) "
    }
   },
   "types_to_exclude": [
    "module",
    "function",
    "builtin_function_or_method",
    "instance",
    "_Feature"
   ],
   "window_display": false
  }
 },
 "nbformat": 4,
 "nbformat_minor": 2
}
