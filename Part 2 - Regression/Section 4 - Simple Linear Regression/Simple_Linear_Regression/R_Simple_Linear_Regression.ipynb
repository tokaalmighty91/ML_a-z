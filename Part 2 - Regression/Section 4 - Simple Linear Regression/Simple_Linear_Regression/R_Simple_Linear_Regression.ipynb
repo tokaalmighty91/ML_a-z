{
 "cells": [
  {
   "cell_type": "code",
   "execution_count": 1,
   "metadata": {},
   "outputs": [],
   "source": [
    "# Importing the dataset\n",
    "dataset = read.csv('Salary_Data.csv')\n",
    "# Figure out independent and dependent variables first thing"
   ]
  },
  {
   "cell_type": "markdown",
   "metadata": {},
   "source": [
    "# Splitting the dataset into the Training set and Test set"
   ]
  },
  {
   "cell_type": "code",
   "execution_count": 2,
   "metadata": {},
   "outputs": [],
   "source": [
    "# install.packages('caTools')\n",
    "library(caTools)\n",
    "set.seed(123)\n",
    "# Data is splitted into training and test set randomly, set.seed is random number generator\n",
    "split = sample.split(dataset$Salary, SplitRatio = 2/3)\n",
    "training_set = subset(dataset, split == TRUE)\n",
    "test_set = subset(dataset, split == FALSE)"
   ]
  },
  {
   "cell_type": "markdown",
   "metadata": {},
   "source": [
    "# Fitting simple linear regression to the Training set"
   ]
  },
  {
   "cell_type": "code",
   "execution_count": 3,
   "metadata": {},
   "outputs": [
    {
     "data": {
      "text/plain": [
       "\n",
       "Call:\n",
       "lm(formula = Salary ~ YearsExperience, data = training_set)\n",
       "\n",
       "Residuals:\n",
       "    Min      1Q  Median      3Q     Max \n",
       "-7325.1 -3814.4   427.7  3559.7  8884.6 \n",
       "\n",
       "Coefficients:\n",
       "                Estimate Std. Error t value Pr(>|t|)    \n",
       "(Intercept)        25592       2646   9.672 1.49e-08 ***\n",
       "YearsExperience     9365        421  22.245 1.52e-14 ***\n",
       "---\n",
       "Signif. codes:  0 ‘***’ 0.001 ‘**’ 0.01 ‘*’ 0.05 ‘.’ 0.1 ‘ ’ 1\n",
       "\n",
       "Residual standard error: 5391 on 18 degrees of freedom\n",
       "Multiple R-squared:  0.9649,\tAdjusted R-squared:  0.963 \n",
       "F-statistic: 494.8 on 1 and 18 DF,  p-value: 1.524e-14\n"
      ]
     },
     "metadata": {},
     "output_type": "display_data"
    }
   ],
   "source": [
    "regressor= lm(formula= Salary ~ YearsExperience,\n",
    "              data= training_set)\n",
    "summary(regressor)"
   ]
  },
  {
   "cell_type": "markdown",
   "metadata": {},
   "source": [
    "## Predict Test set Results"
   ]
  },
  {
   "cell_type": "code",
   "execution_count": 4,
   "metadata": {},
   "outputs": [
    {
     "data": {
      "text/html": [
       "<dl class=dl-horizontal>\n",
       "\t<dt>2</dt>\n",
       "\t\t<dd>37766.7736315146</dd>\n",
       "\t<dt>4</dt>\n",
       "\t\t<dd>44322.330897624</dd>\n",
       "\t<dt>5</dt>\n",
       "\t\t<dd>46195.3472593695</dd>\n",
       "\t<dt>8</dt>\n",
       "\t\t<dd>55560.4290680972</dd>\n",
       "\t<dt>11</dt>\n",
       "\t\t<dd>62115.9863342066</dd>\n",
       "\t<dt>16</dt>\n",
       "\t\t<dd>71481.0681429343</dd>\n",
       "\t<dt>20</dt>\n",
       "\t\t<dd>81782.6581325347</dd>\n",
       "\t<dt>21</dt>\n",
       "\t\t<dd>89274.7235795169</dd>\n",
       "\t<dt>24</dt>\n",
       "\t\t<dd>102385.838111736</dd>\n",
       "\t<dt>26</dt>\n",
       "\t\t<dd>109877.903558718</dd>\n",
       "</dl>\n"
      ],
      "text/latex": [
       "\\begin{description*}\n",
       "\\item[2] 37766.7736315146\n",
       "\\item[4] 44322.330897624\n",
       "\\item[5] 46195.3472593695\n",
       "\\item[8] 55560.4290680972\n",
       "\\item[11] 62115.9863342066\n",
       "\\item[16] 71481.0681429343\n",
       "\\item[20] 81782.6581325347\n",
       "\\item[21] 89274.7235795169\n",
       "\\item[24] 102385.838111736\n",
       "\\item[26] 109877.903558718\n",
       "\\end{description*}\n"
      ],
      "text/markdown": [
       "2\n",
       ":   37766.77363151464\n",
       ":   44322.3308976245\n",
       ":   46195.34725936958\n",
       ":   55560.429068097211\n",
       ":   62115.986334206616\n",
       ":   71481.068142934320\n",
       ":   81782.658132534721\n",
       ":   89274.723579516924\n",
       ":   102385.83811173626\n",
       ":   109877.903558718\n",
       "\n"
      ],
      "text/plain": [
       "        2         4         5         8        11        16        20        21 \n",
       " 37766.77  44322.33  46195.35  55560.43  62115.99  71481.07  81782.66  89274.72 \n",
       "       24        26 \n",
       "102385.84 109877.90 "
      ]
     },
     "metadata": {},
     "output_type": "display_data"
    }
   ],
   "source": [
    "y_pred= predict(regressor, newdata= test_set)\n",
    "# Note, I had a typo 'new_data' but no error popped out. So be aware!\n",
    "y_pred"
   ]
  },
  {
   "cell_type": "markdown",
   "metadata": {},
   "source": [
    "## Test Linear Regression Model with Training Set"
   ]
  },
  {
   "cell_type": "code",
   "execution_count": 5,
   "metadata": {},
   "outputs": [
    {
     "name": "stderr",
     "output_type": "stream",
     "text": [
      "also installing the dependencies ‘prettyunits’, ‘xopen’, ‘ini’, ‘git2r’, ‘pkgbuild’, ‘pkgload’, ‘rcmdcheck’, ‘remotes’, ‘sessioninfo’, ‘clisymbols’, ‘desc’, ‘fs’, ‘gh’, ‘acepack’, ‘mvtnorm’, ‘devtools’, ‘diffobj’, ‘freetypeharfbuzz’, ‘gdtools’, ‘usethis’, ‘SparseM’, ‘classInt’, ‘units’, ‘Hmisc’, ‘multcomp’, ‘vdiffr’, ‘quantreg’, ‘rgeos’, ‘sf’, ‘svglite’\n",
      "\n"
     ]
    }
   ],
   "source": [
    "\n",
    "#install.packages(\"ggplot2\", dependencies=TRUE)"
   ]
  },
  {
   "cell_type": "code",
   "execution_count": 6,
   "metadata": {},
   "outputs": [
    {
     "data": {
      "text/plain": [
       "R version 3.5.1 (2018-07-02)\n",
       "Platform: x86_64-apple-darwin13.4.0 (64-bit)\n",
       "Running under: macOS  10.14\n",
       "\n",
       "Matrix products: default\n",
       "BLAS/LAPACK: /Users/tzhu9/miniconda3/lib/R/lib/libRblas.dylib\n",
       "\n",
       "locale:\n",
       "[1] en_US.UTF-8/en_US.UTF-8/en_US.UTF-8/C/en_US.UTF-8/en_US.UTF-8\n",
       "\n",
       "attached base packages:\n",
       "[1] stats     graphics  grDevices utils     datasets  methods   base     \n",
       "\n",
       "other attached packages:\n",
       "[1] caTools_1.17.1.1 jsonlite_1.5     formatR_1.5     \n",
       "\n",
       "loaded via a namespace (and not attached):\n",
       " [1] Rcpp_0.12.18    digest_0.6.15   crayon_1.3.4    bitops_1.0-6   \n",
       " [5] IRdisplay_0.5.0 repr_0.15.0     magrittr_1.5    evaluate_0.11  \n",
       " [9] stringi_1.2.4   uuid_0.1-2      IRkernel_0.8.12 tools_3.5.1    \n",
       "[13] stringr_1.3.1   compiler_3.5.1  base64enc_0.1-3 htmltools_0.3.6\n",
       "[17] pbdZMQ_0.3-3   "
      ]
     },
     "metadata": {},
     "output_type": "display_data"
    }
   ],
   "source": [
    "sessionInfo()"
   ]
  },
  {
   "cell_type": "code",
   "execution_count": 7,
   "metadata": {},
   "outputs": [
    {
     "ename": "ERROR",
     "evalue": "Error: package or namespace load failed for ‘extrafont’:\n package ‘Rttf2pt1’ was installed by an R version with different internals; it needs to be reinstalled for use with this R version\n",
     "output_type": "error",
     "traceback": [
      "Error: package or namespace load failed for ‘extrafont’:\n package ‘Rttf2pt1’ was installed by an R version with different internals; it needs to be reinstalled for use with this R version\nTraceback:\n",
      "1. library(extrafont)",
      "2. tryCatch({\n .     attr(package, \"LibPath\") <- which.lib.loc\n .     ns <- loadNamespace(package, lib.loc)\n .     env <- attachNamespace(ns, pos = pos, deps)\n . }, error = function(e) {\n .     P <- if (!is.null(cc <- conditionCall(e))) \n .         paste(\" in\", deparse(cc)[1L])\n .     else \"\"\n .     msg <- gettextf(\"package or namespace load failed for %s%s:\\n %s\", \n .         sQuote(package), P, conditionMessage(e))\n .     if (logical.return) \n .         message(paste(\"Error:\", msg), domain = NA)\n .     else stop(msg, call. = FALSE, domain = NA)\n . })",
      "3. tryCatchList(expr, classes, parentenv, handlers)",
      "4. tryCatchOne(expr, names, parentenv, handlers[[1L]])",
      "5. value[[3L]](cond)",
      "6. stop(msg, call. = FALSE, domain = NA)"
     ]
    }
   ],
   "source": [
    "library(ggplot2)\n",
    "\n",
    "#install.packages(\"extrafont\")\n",
    "library(extrafont) # Importing additional fonts\n",
    "options(warn=-1) # This is to supress the warnings came with font library \n",
    "\n",
    "options(repr.plot.width= 5 ,repr.plot.height=3)# Resizing figure\n",
    "ggplot()+\n",
    "    geom_point(aes(x= training_set$YearsExperience, y= training_set$Salary),\n",
    "               color= 'red')+ # scatterplots are really salaries\n",
    "    geom_line(aes(x= training_set$YearsExperience, y= predict(regressor, newdata= training_set)),\n",
    "                 color= 'blue')+ # linear regression model for salary based on experience\n",
    "    ggtitle('Salary based on Experience (training set)')+ \n",
    "    xlab('Years of Experience')+ \n",
    "    ylab('Salary')+ \n",
    "    theme(text=element_text(size=12,  family=\"Georgia\"))"
   ]
  },
  {
   "cell_type": "markdown",
   "metadata": {},
   "source": [
    "# Fitting with Test Set"
   ]
  },
  {
   "cell_type": "code",
   "execution_count": null,
   "metadata": {},
   "outputs": [],
   "source": [
    "options(repr.plot.width=5, repr.plot.height=3)\n",
    "\n",
    "ggplot()+\n",
    "    geom_point(aes(x= test_set$YearsExperience, y= test_set$Salary),\n",
    "               color= 'red')+ \n",
    "    geom_line(aes(x= training_set$YearsExperience, y= predict(regressor, newdata= training_set)),\n",
    "                 color= 'blue')+ \n",
    "    ggtitle('Salary based on Experience (training set)')+ \n",
    "    xlab('Years of Experience')+ \n",
    "    ylab('Salary') "
   ]
  }
 ],
 "metadata": {
  "kernelspec": {
   "display_name": "R",
   "language": "R",
   "name": "ir"
  },
  "language_info": {
   "codemirror_mode": "r",
   "file_extension": ".r",
   "mimetype": "text/x-r-source",
   "name": "R",
   "pygments_lexer": "r",
   "version": "3.5.1"
  },
  "varInspector": {
   "cols": {
    "lenName": 16,
    "lenType": 16,
    "lenVar": 40
   },
   "kernels_config": {
    "python": {
     "delete_cmd_postfix": "",
     "delete_cmd_prefix": "del ",
     "library": "var_list.py",
     "varRefreshCmd": "print(var_dic_list())"
    },
    "r": {
     "delete_cmd_postfix": ") ",
     "delete_cmd_prefix": "rm(",
     "library": "var_list.r",
     "varRefreshCmd": "cat(var_dic_list()) "
    }
   },
   "position": {
    "height": "210px",
    "left": "910px",
    "right": "18px",
    "top": "120px",
    "width": "352px"
   },
   "types_to_exclude": [
    "module",
    "function",
    "builtin_function_or_method",
    "instance",
    "_Feature"
   ],
   "window_display": false
  }
 },
 "nbformat": 4,
 "nbformat_minor": 2
}
